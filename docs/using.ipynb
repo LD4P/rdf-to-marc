{
 "cells": [
  {
   "cell_type": "markdown",
   "metadata": {},
   "source": [
    "# RDF to MARC\n"
   ]
  },
  {
   "cell_type": "code",
   "execution_count": 43,
   "metadata": {},
   "outputs": [],
   "source": [
    "import asyncio\n",
    "import csv\n",
    "import io\n",
    "import js2py\n",
    "import pandas as pd\n",
    "import pymarc\n",
    "import rdflib\n",
    "import requests\n",
    "import zipfile\n",
    "from typing import Any, Optional"
   ]
  },
  {
   "cell_type": "code",
   "execution_count": 4,
   "metadata": {},
   "outputs": [],
   "source": [
    "stanford_export = requests.get(\"https://sinopia-exports-production.s3-us-west-2.amazonaws.com/stanford_2020-04-26T00:02:02.114Z.zip\",\n",
    "                              stream=True)\n",
    "stanford_zip = zipfile.ZipFile(io.BytesIO(stanford_export.content))\n"
   ]
  },
  {
   "cell_type": "code",
   "execution_count": 5,
   "metadata": {},
   "outputs": [
    {
     "data": {
      "text/plain": [
       "<Graph identifier=N0368ecd7312b47dd8fc982df3d8be528 (<class 'rdflib.graph.Graph'>)>"
      ]
     },
     "execution_count": 5,
     "metadata": {},
     "output_type": "execute_result"
    }
   ],
   "source": [
    "school_work = requests.get('https://trellis.sinopia.io/repository/stanford/da12a617-7832-4c08-bb3d-4f3b823e3eb0')\n",
    "stanford_graph = rdflib.ConjunctiveGraph()\n",
    "stanford_graph.parse(data=school_work.text, format='turtle')\n",
    "        \n",
    "    "
   ]
  },
  {
   "cell_type": "code",
   "execution_count": 6,
   "metadata": {},
   "outputs": [
    {
     "data": {
      "text/plain": [
       "{'Work (W), Instance (I), Item (Item)': '',\n",
       " 'Path to value': '',\n",
       " 'MARC destination': '00-04',\n",
       " 'Conversion': '\"     \"',\n",
       " 'Notes': 'All blanks for MARCXML'}"
      ]
     },
     "execution_count": 6,
     "metadata": {},
     "output_type": "execute_result"
    }
   ],
   "source": [
    "leader_mappings[0]"
   ]
  },
  {
   "cell_type": "code",
   "execution_count": 9,
   "metadata": {},
   "outputs": [],
   "source": [
    "leader = pd.read_csv('../src/bf2marcSpec-LDR-001-005-v1.0.csv')"
   ]
  },
  {
   "cell_type": "code",
   "execution_count": 10,
   "metadata": {},
   "outputs": [
    {
     "data": {
      "text/html": [
       "<div>\n",
       "<style scoped>\n",
       "    .dataframe tbody tr th:only-of-type {\n",
       "        vertical-align: middle;\n",
       "    }\n",
       "\n",
       "    .dataframe tbody tr th {\n",
       "        vertical-align: top;\n",
       "    }\n",
       "\n",
       "    .dataframe thead th {\n",
       "        text-align: right;\n",
       "    }\n",
       "</style>\n",
       "<table border=\"1\" class=\"dataframe\">\n",
       "  <thead>\n",
       "    <tr style=\"text-align: right;\">\n",
       "      <th></th>\n",
       "      <th>Work (W), Instance (I), Item (Item)</th>\n",
       "      <th>Path to value</th>\n",
       "      <th>MARC destination</th>\n",
       "      <th>Conversion</th>\n",
       "      <th>Notes</th>\n",
       "    </tr>\n",
       "  </thead>\n",
       "  <tbody>\n",
       "    <tr>\n",
       "      <th>0</th>\n",
       "      <td>NaN</td>\n",
       "      <td>NaN</td>\n",
       "      <td>00-04</td>\n",
       "      <td>\"     \"</td>\n",
       "      <td>All blanks for MARCXML</td>\n",
       "    </tr>\n",
       "    <tr>\n",
       "      <th>1</th>\n",
       "      <td>W</td>\n",
       "      <td>adminMetadata/AdminMetadata/status/Status/code</td>\n",
       "      <td>05</td>\n",
       "      <td>(value == \"\") ? \"n\" : value</td>\n",
       "      <td>Default \"n\"</td>\n",
       "    </tr>\n",
       "    <tr>\n",
       "      <th>2</th>\n",
       "      <td>W</td>\n",
       "      <td>rdf:type/@rdf:resource</td>\n",
       "      <td>06</td>\n",
       "      <td>if ((value == \"bf:NotatedMusic\") &amp;&amp; (Instance/...</td>\n",
       "      <td>Default \"a\"</td>\n",
       "    </tr>\n",
       "    <tr>\n",
       "      <th>3</th>\n",
       "      <td>I</td>\n",
       "      <td>issuance/Issuance/@rdf:about</td>\n",
       "      <td>07</td>\n",
       "      <td>if (Instance/rdf:type/@rdf:resource == \"bf:Col...</td>\n",
       "      <td>Default \"m\". Comes from either the issuance or...</td>\n",
       "    </tr>\n",
       "    <tr>\n",
       "      <th>4</th>\n",
       "      <td>I</td>\n",
       "      <td>rdf:type/@rdf:resource</td>\n",
       "      <td>08</td>\n",
       "      <td>(value == \"bf:Archival\") ? \"a\" : \" \"</td>\n",
       "      <td>Default \" \"</td>\n",
       "    </tr>\n",
       "    <tr>\n",
       "      <th>5</th>\n",
       "      <td>NaN</td>\n",
       "      <td>NaN</td>\n",
       "      <td>09-16</td>\n",
       "      <td>\"a22     \"</td>\n",
       "      <td>Defaults for MARCXML</td>\n",
       "    </tr>\n",
       "    <tr>\n",
       "      <th>6</th>\n",
       "      <td>W</td>\n",
       "      <td>adminMetadata/AdminMetadata/bflc:encodingLevel...</td>\n",
       "      <td>17</td>\n",
       "      <td>if (@rdf:about == \"http://id.loc.gov/vocabular...</td>\n",
       "      <td>Default \"u\". Conversion may come from either t...</td>\n",
       "    </tr>\n",
       "    <tr>\n",
       "      <th>7</th>\n",
       "      <td>W</td>\n",
       "      <td>adminMetadata/AdminMetadata/descriptionConvent...</td>\n",
       "      <td>18</td>\n",
       "      <td>if (@rdf:about == \"http://id.loc.gov/vocabular...</td>\n",
       "      <td>Default \"u\". Conversion may come from either t...</td>\n",
       "    </tr>\n",
       "    <tr>\n",
       "      <th>8</th>\n",
       "      <td>NaN</td>\n",
       "      <td>NaN</td>\n",
       "      <td>19</td>\n",
       "      <td>\" \"</td>\n",
       "      <td>nac</td>\n",
       "    </tr>\n",
       "    <tr>\n",
       "      <th>9</th>\n",
       "      <td>NaN</td>\n",
       "      <td>NaN</td>\n",
       "      <td>20-23</td>\n",
       "      <td>\"4500\"</td>\n",
       "      <td>Default for MARCXML</td>\n",
       "    </tr>\n",
       "    <tr>\n",
       "      <th>10</th>\n",
       "      <td>NaN</td>\n",
       "      <td>NaN</td>\n",
       "      <td>001</td>\n",
       "      <td>Implementation:\\nRecord ID can be given as a p...</td>\n",
       "      <td>All MARC records must have an 001</td>\n",
       "    </tr>\n",
       "    <tr>\n",
       "      <th>11</th>\n",
       "      <td>W</td>\n",
       "      <td>adminMetadata/AdminMetadata/source/Source/code</td>\n",
       "      <td>003</td>\n",
       "      <td>NaN</td>\n",
       "      <td>NaN</td>\n",
       "    </tr>\n",
       "    <tr>\n",
       "      <th>12</th>\n",
       "      <td>W</td>\n",
       "      <td>adminMetadata/AdminMetadata/changeDate</td>\n",
       "      <td>005</td>\n",
       "      <td>value.substring(0,4) + value.substring(5,2) + ...</td>\n",
       "      <td>Convert to \"yyyymmddhhmmss.f\"</td>\n",
       "    </tr>\n",
       "  </tbody>\n",
       "</table>\n",
       "</div>"
      ],
      "text/plain": [
       "   Work (W), Instance (I), Item (Item)  \\\n",
       "0                                  NaN   \n",
       "1                                    W   \n",
       "2                                    W   \n",
       "3                                    I   \n",
       "4                                    I   \n",
       "5                                  NaN   \n",
       "6                                    W   \n",
       "7                                    W   \n",
       "8                                  NaN   \n",
       "9                                  NaN   \n",
       "10                                 NaN   \n",
       "11                                   W   \n",
       "12                                   W   \n",
       "\n",
       "                                        Path to value MARC destination  \\\n",
       "0                                                 NaN            00-04   \n",
       "1      adminMetadata/AdminMetadata/status/Status/code               05   \n",
       "2                              rdf:type/@rdf:resource               06   \n",
       "3                        issuance/Issuance/@rdf:about               07   \n",
       "4                              rdf:type/@rdf:resource               08   \n",
       "5                                                 NaN            09-16   \n",
       "6   adminMetadata/AdminMetadata/bflc:encodingLevel...               17   \n",
       "7   adminMetadata/AdminMetadata/descriptionConvent...               18   \n",
       "8                                                 NaN               19   \n",
       "9                                                 NaN            20-23   \n",
       "10                                                NaN              001   \n",
       "11     adminMetadata/AdminMetadata/source/Source/code              003   \n",
       "12             adminMetadata/AdminMetadata/changeDate              005   \n",
       "\n",
       "                                           Conversion  \\\n",
       "0                                             \"     \"   \n",
       "1                         (value == \"\") ? \"n\" : value   \n",
       "2   if ((value == \"bf:NotatedMusic\") && (Instance/...   \n",
       "3   if (Instance/rdf:type/@rdf:resource == \"bf:Col...   \n",
       "4                (value == \"bf:Archival\") ? \"a\" : \" \"   \n",
       "5                                          \"a22     \"   \n",
       "6   if (@rdf:about == \"http://id.loc.gov/vocabular...   \n",
       "7   if (@rdf:about == \"http://id.loc.gov/vocabular...   \n",
       "8                                                 \" \"   \n",
       "9                                              \"4500\"   \n",
       "10  Implementation:\\nRecord ID can be given as a p...   \n",
       "11                                                NaN   \n",
       "12  value.substring(0,4) + value.substring(5,2) + ...   \n",
       "\n",
       "                                                Notes  \n",
       "0                              All blanks for MARCXML  \n",
       "1                                         Default \"n\"  \n",
       "2                                         Default \"a\"  \n",
       "3   Default \"m\". Comes from either the issuance or...  \n",
       "4                                         Default \" \"  \n",
       "5                                Defaults for MARCXML  \n",
       "6   Default \"u\". Conversion may come from either t...  \n",
       "7   Default \"u\". Conversion may come from either t...  \n",
       "8                                                 nac  \n",
       "9                                 Default for MARCXML  \n",
       "10                  All MARC records must have an 001  \n",
       "11                                                NaN  \n",
       "12                      Convert to \"yyyymmddhhmmss.f\"  "
      ]
     },
     "execution_count": 10,
     "metadata": {},
     "output_type": "execute_result"
    }
   ],
   "source": [
    "leader"
   ]
  },
  {
   "cell_type": "code",
   "execution_count": 11,
   "metadata": {},
   "outputs": [
    {
     "data": {
      "text/html": [
       "<div>\n",
       "<style scoped>\n",
       "    .dataframe tbody tr th:only-of-type {\n",
       "        vertical-align: middle;\n",
       "    }\n",
       "\n",
       "    .dataframe tbody tr th {\n",
       "        vertical-align: top;\n",
       "    }\n",
       "\n",
       "    .dataframe thead th {\n",
       "        text-align: right;\n",
       "    }\n",
       "</style>\n",
       "<table border=\"1\" class=\"dataframe\">\n",
       "  <thead>\n",
       "    <tr style=\"text-align: right;\">\n",
       "      <th></th>\n",
       "      <th>Work (W), Instance (I), Item (Item)</th>\n",
       "      <th>Path to value</th>\n",
       "      <th>MARC destination</th>\n",
       "      <th>Conversion</th>\n",
       "      <th>Notes</th>\n",
       "    </tr>\n",
       "  </thead>\n",
       "  <tbody>\n",
       "    <tr>\n",
       "      <th>0</th>\n",
       "      <td>NaN</td>\n",
       "      <td>NaN</td>\n",
       "      <td>00-04</td>\n",
       "      <td>\"     \"</td>\n",
       "      <td>All blanks for MARCXML</td>\n",
       "    </tr>\n",
       "    <tr>\n",
       "      <th>1</th>\n",
       "      <td>W</td>\n",
       "      <td>adminMetadata/AdminMetadata/status/Status/code</td>\n",
       "      <td>05</td>\n",
       "      <td>(value == \"\") ? \"n\" : value</td>\n",
       "      <td>Default \"n\"</td>\n",
       "    </tr>\n",
       "    <tr>\n",
       "      <th>2</th>\n",
       "      <td>W</td>\n",
       "      <td>rdf:type/@rdf:resource</td>\n",
       "      <td>06</td>\n",
       "      <td>if ((value == \"bf:NotatedMusic\") &amp;&amp; (Instance/...</td>\n",
       "      <td>Default \"a\"</td>\n",
       "    </tr>\n",
       "    <tr>\n",
       "      <th>3</th>\n",
       "      <td>I</td>\n",
       "      <td>issuance/Issuance/@rdf:about</td>\n",
       "      <td>07</td>\n",
       "      <td>if (Instance/rdf:type/@rdf:resource == \"bf:Col...</td>\n",
       "      <td>Default \"m\". Comes from either the issuance or...</td>\n",
       "    </tr>\n",
       "    <tr>\n",
       "      <th>4</th>\n",
       "      <td>I</td>\n",
       "      <td>rdf:type/@rdf:resource</td>\n",
       "      <td>08</td>\n",
       "      <td>(value == \"bf:Archival\") ? \"a\" : \" \"</td>\n",
       "      <td>Default \" \"</td>\n",
       "    </tr>\n",
       "  </tbody>\n",
       "</table>\n",
       "</div>"
      ],
      "text/plain": [
       "  Work (W), Instance (I), Item (Item)  \\\n",
       "0                                 NaN   \n",
       "1                                   W   \n",
       "2                                   W   \n",
       "3                                   I   \n",
       "4                                   I   \n",
       "\n",
       "                                    Path to value MARC destination  \\\n",
       "0                                             NaN            00-04   \n",
       "1  adminMetadata/AdminMetadata/status/Status/code               05   \n",
       "2                          rdf:type/@rdf:resource               06   \n",
       "3                    issuance/Issuance/@rdf:about               07   \n",
       "4                          rdf:type/@rdf:resource               08   \n",
       "\n",
       "                                          Conversion  \\\n",
       "0                                            \"     \"   \n",
       "1                        (value == \"\") ? \"n\" : value   \n",
       "2  if ((value == \"bf:NotatedMusic\") && (Instance/...   \n",
       "3  if (Instance/rdf:type/@rdf:resource == \"bf:Col...   \n",
       "4               (value == \"bf:Archival\") ? \"a\" : \" \"   \n",
       "\n",
       "                                               Notes  \n",
       "0                             All blanks for MARCXML  \n",
       "1                                        Default \"n\"  \n",
       "2                                        Default \"a\"  \n",
       "3  Default \"m\". Comes from either the issuance or...  \n",
       "4                                        Default \" \"  "
      ]
     },
     "execution_count": 11,
     "metadata": {},
     "output_type": "execute_result"
    }
   ],
   "source": [
    "leader[:5]"
   ]
  },
  {
   "cell_type": "code",
   "execution_count": 19,
   "metadata": {},
   "outputs": [
    {
     "data": {
      "text/plain": [
       "'     '"
      ]
     },
     "execution_count": 19,
     "metadata": {},
     "output_type": "execute_result"
    }
   ],
   "source": [
    "js2py.eval_js(leader[\"Conversion\"][0])"
   ]
  },
  {
   "cell_type": "code",
   "execution_count": 23,
   "metadata": {},
   "outputs": [
    {
     "data": {
      "text/plain": [
       "'n'"
      ]
     },
     "execution_count": 23,
     "metadata": {},
     "output_type": "execute_result"
    }
   ],
   "source": [
    "js2py.eval_js('(\"\" == \"\") ? \"n\" : \"for\"')"
   ]
  },
  {
   "cell_type": "code",
   "execution_count": 24,
   "metadata": {},
   "outputs": [
    {
     "data": {
      "text/plain": [
       "0                                              \"     \"\n",
       "1                          (value == \"\") ? \"n\" : value\n",
       "2    if ((value == \"bf:NotatedMusic\") && (Instance/...\n",
       "3    if (Instance/rdf:type/@rdf:resource == \"bf:Col...\n",
       "4                 (value == \"bf:Archival\") ? \"a\" : \" \"\n",
       "Name: Conversion, dtype: object"
      ]
     },
     "execution_count": 24,
     "metadata": {},
     "output_type": "execute_result"
    }
   ],
   "source": [
    "leader[\"Conversion\"].head()"
   ]
  },
  {
   "cell_type": "code",
   "execution_count": 28,
   "metadata": {},
   "outputs": [],
   "source": [
    "def conversion(js_template, value:str) -> Any:\n",
    "    js_str = js_template.replace(\"value\", f\"\\\"{value}\\\"\")\n",
    "    return js2py.eval_js(js_str)"
   ]
  },
  {
   "cell_type": "code",
   "execution_count": 35,
   "metadata": {},
   "outputs": [],
   "source": [
    "def rdf2marc(graph: rdflib.Graph) -> pymarc.Record:\n",
    "    leader_str = leader(graph, 'bf2marcSpec-LDR-001-005-v1.0.csv')\n",
    "    record = pymarc.Record(leader=leader_str, file_encoding='utf-8')\n",
    "    return record"
   ]
  },
  {
   "cell_type": "code",
   "execution_count": 32,
   "metadata": {},
   "outputs": [
    {
     "data": {
      "text/plain": [
       "\u001b[0;31mInit signature:\u001b[0m\n",
       "\u001b[0mpymarc\u001b[0m\u001b[0;34m.\u001b[0m\u001b[0mRecord\u001b[0m\u001b[0;34m(\u001b[0m\u001b[0;34m\u001b[0m\n",
       "\u001b[0;34m\u001b[0m    \u001b[0mdata\u001b[0m\u001b[0;34m=\u001b[0m\u001b[0;34m''\u001b[0m\u001b[0;34m,\u001b[0m\u001b[0;34m\u001b[0m\n",
       "\u001b[0;34m\u001b[0m    \u001b[0mto_unicode\u001b[0m\u001b[0;34m=\u001b[0m\u001b[0;32mTrue\u001b[0m\u001b[0;34m,\u001b[0m\u001b[0;34m\u001b[0m\n",
       "\u001b[0;34m\u001b[0m    \u001b[0mforce_utf8\u001b[0m\u001b[0;34m=\u001b[0m\u001b[0;32mFalse\u001b[0m\u001b[0;34m,\u001b[0m\u001b[0;34m\u001b[0m\n",
       "\u001b[0;34m\u001b[0m    \u001b[0mhide_utf8_warnings\u001b[0m\u001b[0;34m=\u001b[0m\u001b[0;32mFalse\u001b[0m\u001b[0;34m,\u001b[0m\u001b[0;34m\u001b[0m\n",
       "\u001b[0;34m\u001b[0m    \u001b[0mutf8_handling\u001b[0m\u001b[0;34m=\u001b[0m\u001b[0;34m'strict'\u001b[0m\u001b[0;34m,\u001b[0m\u001b[0;34m\u001b[0m\n",
       "\u001b[0;34m\u001b[0m    \u001b[0mleader\u001b[0m\u001b[0;34m=\u001b[0m\u001b[0;34m'                        '\u001b[0m\u001b[0;34m,\u001b[0m\u001b[0;34m\u001b[0m\n",
       "\u001b[0;34m\u001b[0m    \u001b[0mfile_encoding\u001b[0m\u001b[0;34m=\u001b[0m\u001b[0;34m'iso8859-1'\u001b[0m\u001b[0;34m,\u001b[0m\u001b[0;34m\u001b[0m\n",
       "\u001b[0;34m\u001b[0m\u001b[0;34m)\u001b[0m\u001b[0;34m\u001b[0m\u001b[0;34m\u001b[0m\u001b[0m\n",
       "\u001b[0;31mDocstring:\u001b[0m     \n",
       "A class for representing a MARC record.\n",
       "\n",
       "Each Record object is made up of multiple Field objects. You'll probably want to look\n",
       "at the docs for :class:`Field <pymarc.record.Field>` to see how to fully use a Record\n",
       "object.\n",
       "\n",
       "Basic usage:\n",
       "\n",
       ".. code-block:: python\n",
       "\n",
       "    field = Field(\n",
       "        tag = '245',\n",
       "        indicators = ['0','1'],\n",
       "        subfields = [\n",
       "            'a', 'The pragmatic programmer : ',\n",
       "            'b', 'from journeyman to master /',\n",
       "            'c', 'Andrew Hunt, David Thomas.',\n",
       "        ])\n",
       "\n",
       "    record.add_field(field)\n",
       "\n",
       "Or creating a record from a chunk of MARC in transmission format:\n",
       "\n",
       ".. code-block:: python\n",
       "\n",
       "    record = Record(data=chunk)\n",
       "\n",
       "Or getting a record as serialized MARC21.\n",
       "\n",
       ".. code-block:: python\n",
       "\n",
       "    raw = record.as_marc()\n",
       "\n",
       "You'll normally want to use a MARCReader object to iterate through\n",
       "MARC records in a file.\n",
       "\u001b[0;31mInit docstring:\u001b[0m Initialize a Record.\n",
       "\u001b[0;31mFile:\u001b[0m           ~/2020/py3-env/lib/python3.8/site-packages/pymarc-4.0.0-py3.8.egg/pymarc/record.py\n",
       "\u001b[0;31mType:\u001b[0m           type\n",
       "\u001b[0;31mSubclasses:\u001b[0m     \n"
      ]
     },
     "metadata": {},
     "output_type": "display_data"
    }
   ],
   "source": [
    "?pymarc.Record"
   ]
  },
  {
   "cell_type": "code",
   "execution_count": 31,
   "metadata": {},
   "outputs": [
    {
     "name": "stdout",
     "output_type": "stream",
     "text": [
      "=LDR            22        4500\n",
      "\n"
     ]
    }
   ],
   "source": [
    "print(rdf2marc())"
   ]
  },
  {
   "cell_type": "code",
   "execution_count": null,
   "metadata": {},
   "outputs": [],
   "source": [
    "def leader(graph: rdflib.Graph, map_csv: str) -> str:\n",
    "    leader_df = pd.read_csv(map_csv)\n",
    "    js2py.eval_js(leader_df[\"Conversion\"][0])"
   ]
  },
  {
   "cell_type": "code",
   "execution_count": 38,
   "metadata": {},
   "outputs": [],
   "source": [
    "f1XX_df = pd.read_csv(\"../src/bf2marcSpec-1XX-6XX-7XX-8XX-v1.0.csv\")"
   ]
  },
  {
   "cell_type": "code",
   "execution_count": 39,
   "metadata": {},
   "outputs": [
    {
     "data": {
      "text/html": [
       "<div>\n",
       "<style scoped>\n",
       "    .dataframe tbody tr th:only-of-type {\n",
       "        vertical-align: middle;\n",
       "    }\n",
       "\n",
       "    .dataframe tbody tr th {\n",
       "        vertical-align: top;\n",
       "    }\n",
       "\n",
       "    .dataframe thead th {\n",
       "        text-align: right;\n",
       "    }\n",
       "</style>\n",
       "<table border=\"1\" class=\"dataframe\">\n",
       "  <thead>\n",
       "    <tr style=\"text-align: right;\">\n",
       "      <th></th>\n",
       "      <th>Work (W), Instance (I), Item (Item)</th>\n",
       "      <th>Path to value</th>\n",
       "      <th>MARC destination</th>\n",
       "      <th>MARC Repeatability</th>\n",
       "      <th>Conversion</th>\n",
       "      <th>Notes</th>\n",
       "    </tr>\n",
       "  </thead>\n",
       "  <tbody>\n",
       "    <tr>\n",
       "      <th>0</th>\n",
       "      <td>W</td>\n",
       "      <td>contribution/bflc:PrimaryContribution/agent/(m...</td>\n",
       "      <td>100</td>\n",
       "      <td>NR</td>\n",
       "      <td>NaN</td>\n",
       "      <td>Each contribution/bflc:Contribution/agent/mads...</td>\n",
       "    </tr>\n",
       "    <tr>\n",
       "      <th>1</th>\n",
       "      <td>W</td>\n",
       "      <td>contribution/bflc:PrimaryContribution/agent/ma...</td>\n",
       "      <td>100 I1</td>\n",
       "      <td>NR</td>\n",
       "      <td>\"1\"</td>\n",
       "      <td>NaN</td>\n",
       "    </tr>\n",
       "    <tr>\n",
       "      <th>2</th>\n",
       "      <td>W</td>\n",
       "      <td>contribution/bflc:PrimaryContribution/agent/ma...</td>\n",
       "      <td>100 I1</td>\n",
       "      <td>NR</td>\n",
       "      <td>\"3\"</td>\n",
       "      <td>NaN</td>\n",
       "    </tr>\n",
       "    <tr>\n",
       "      <th>3</th>\n",
       "      <td>W</td>\n",
       "      <td>contribution/bflc:PrimaryContribution/agent/(m...</td>\n",
       "      <td>100 I2</td>\n",
       "      <td>NR</td>\n",
       "      <td>\" \"</td>\n",
       "      <td>NaN</td>\n",
       "    </tr>\n",
       "    <tr>\n",
       "      <th>4</th>\n",
       "      <td>W</td>\n",
       "      <td>contribution/bflc:PrimaryContribution/agent/(m...</td>\n",
       "      <td>100 $a</td>\n",
       "      <td>NR</td>\n",
       "      <td>NaN</td>\n",
       "      <td>NaN</td>\n",
       "    </tr>\n",
       "  </tbody>\n",
       "</table>\n",
       "</div>"
      ],
      "text/plain": [
       "  Work (W), Instance (I), Item (Item)  \\\n",
       "0                                   W   \n",
       "1                                   W   \n",
       "2                                   W   \n",
       "3                                   W   \n",
       "4                                   W   \n",
       "\n",
       "                                       Path to value MARC destination  \\\n",
       "0  contribution/bflc:PrimaryContribution/agent/(m...              100   \n",
       "1  contribution/bflc:PrimaryContribution/agent/ma...           100 I1   \n",
       "2  contribution/bflc:PrimaryContribution/agent/ma...          100 I1    \n",
       "3  contribution/bflc:PrimaryContribution/agent/(m...           100 I2   \n",
       "4  contribution/bflc:PrimaryContribution/agent/(m...           100 $a   \n",
       "\n",
       "  MARC Repeatability Conversion  \\\n",
       "0                 NR        NaN   \n",
       "1                 NR        \"1\"   \n",
       "2                 NR        \"3\"   \n",
       "3                 NR        \" \"   \n",
       "4                 NR        NaN   \n",
       "\n",
       "                                               Notes  \n",
       "0  Each contribution/bflc:Contribution/agent/mads...  \n",
       "1                                                NaN  \n",
       "2                                                NaN  \n",
       "3                                                NaN  \n",
       "4                                                NaN  "
      ]
     },
     "execution_count": 39,
     "metadata": {},
     "output_type": "execute_result"
    }
   ],
   "source": [
    "f1XX_df.head()"
   ]
  },
  {
   "cell_type": "code",
   "execution_count": 41,
   "metadata": {},
   "outputs": [
    {
     "data": {
      "text/plain": [
       "Index(['Work (W), Instance (I), Item (Item)', 'Path to value',\n",
       "       'MARC destination', 'MARC Repeatability', 'Conversion', 'Notes'],\n",
       "      dtype='object')"
      ]
     },
     "execution_count": 41,
     "metadata": {},
     "output_type": "execute_result"
    }
   ],
   "source": [
    "f1XX_df.keys()"
   ]
  },
  {
   "cell_type": "code",
   "execution_count": 47,
   "metadata": {},
   "outputs": [],
   "source": [
    "def conversion(js_template, value: Optional[str] = None) -> Any:\n",
    "    js_str = js_template.replace(\"value\", f\"\\\"{value}\\\"\")\n",
    "    print(f\"js {js_str}\")\n",
    "    return js2py.eval_js(js_str)"
   ]
  },
  {
   "cell_type": "code",
   "execution_count": 49,
   "metadata": {},
   "outputs": [
    {
     "name": "stdout",
     "output_type": "stream",
     "text": [
      "js \"  \"\n"
     ]
    },
    {
     "data": {
      "text/plain": [
       "'  '"
      ]
     },
     "execution_count": 49,
     "metadata": {},
     "output_type": "execute_result"
    }
   ],
   "source": [
    "conversion('\"  \"')"
   ]
  },
  {
   "cell_type": "code",
   "execution_count": null,
   "metadata": {},
   "outputs": [],
   "source": []
  }
 ],
 "metadata": {
  "kernelspec": {
   "display_name": "Python 3",
   "language": "python",
   "name": "python3"
  },
  "language_info": {
   "codemirror_mode": {
    "name": "ipython",
    "version": 3
   },
   "file_extension": ".py",
   "mimetype": "text/x-python",
   "name": "python",
   "nbconvert_exporter": "python",
   "pygments_lexer": "ipython3",
   "version": "3.8.1"
  }
 },
 "nbformat": 4,
 "nbformat_minor": 4
}
